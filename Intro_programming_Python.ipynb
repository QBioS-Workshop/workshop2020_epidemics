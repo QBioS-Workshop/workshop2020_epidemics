{
 "cells": [
  {
   "cell_type": "markdown",
   "metadata": {},
   "source": [
    "# May 18, 2020: Hands-On introduction to the Basics of Scientific Programming\n",
    "\n",
    "### Prof. Joshua Weitz and QBioS Cohort\n",
    "***"
   ]
  },
  {
   "cell_type": "markdown",
   "metadata": {},
   "source": [
    "Would you like to be able to build a computational model of a living system but don't know how? Then you are in the right spot.\n",
    "This tutorial is meant to be interactive... that is you should be reading, typing, thinking, and asking questions.\n",
    "\n",
    "The materials are adapted from a semester long course entitled \"Foundations of Quantitative Biosciences\" developed by Prof. Joshua Weitz in Fall 2016/2017/2018/2019 as the cornerstone class for the QBioS Ph.D. at Georgia Tech. The materials have been adapted to focus on epidemics modeling and to account for the greater variety of backgrounds of students in the workshop.\n",
    "\n",
    "Today we will focus on the basics of coding that can help you build models... whether of gene expression, cellular dynamics, game theory, or some other problem linked to dynamics of living systems.\n",
    "Let's get started!\n"
   ]
  },
  {
   "cell_type": "markdown",
   "metadata": {},
   "source": [
    "## 1 Getting Started\n",
    "\n",
    "Python is a dynamic programming language with a vast region of applications due its diverse library of packages. We will be using it in this class to simulate and model the dynamics of living systems from scales of molecules to ecosystems. Python is particularly good at:\n",
    "\n",
    "- Building Multi Purpose Applications\n",
    "- Web Development\n",
    "- Rapid Prototyping\n",
    "\n",
    "and is okay at:\n",
    "\n",
    "- Interfacing with other languages\n",
    "- Speed of for loops (as compared to C)\n",
    "\n",
    "There are a variety of Integrated Development Environments(IDEs) for Python. For this course we will use Jupyter notebook."
   ]
  },
  {
   "cell_type": "markdown",
   "metadata": {},
   "source": [
    "You can do basic math in these cells (In order to run the cell press `Shift+Enter`. To create a new cell for your own experiments, press `Esc+B`.), for example:"
   ]
  },
  {
   "cell_type": "code",
   "execution_count": null,
   "metadata": {},
   "outputs": [],
   "source": [
    "3+4"
   ]
  },
  {
   "cell_type": "markdown",
   "metadata": {},
   "source": [
    "and (using the numpy package):"
   ]
  },
  {
   "cell_type": "code",
   "execution_count": null,
   "metadata": {},
   "outputs": [],
   "source": [
    "import numpy as np\n",
    "np.exp(1)"
   ]
  },
  {
   "cell_type": "markdown",
   "metadata": {},
   "source": [
    "**Python's greatest strength is the diverse library of packages available to it**. There are an incredible amount\n",
    "of packages that are useful for everything from 3D design to Genomics. Making use of this diverse set of\n",
    "packages requires that they be imported (loaded), into the current workspace. As long as the package is\n",
    "installed, Anaconda contains all the packages for this workshop, importing them is simple. Remember, that\n",
    "**in every new session you must import the packages you wish to use**."
   ]
  },
  {
   "cell_type": "code",
   "execution_count": null,
   "metadata": {},
   "outputs": [],
   "source": [
    "import numpy as np"
   ]
  },
  {
   "cell_type": "markdown",
   "metadata": {},
   "source": [
    "In addition to importing with the `import` command, we also use the `as` command to shorten the name.\n",
    "From numpy to np. Once a package is imported, it is made available for every cell downstream. Therefore\n",
    "it is good practice to have import statements in the first cell. Python has several functions that are built in\n",
    "(and you can use it like a calculator). Numpy (a python package), has many more functions for advanced\n",
    "calculation, for example, to learn more about the exponential function:"
   ]
  },
  {
   "cell_type": "code",
   "execution_count": null,
   "metadata": {},
   "outputs": [],
   "source": [
    "np.info(np.exp)"
   ]
  },
  {
   "cell_type": "markdown",
   "metadata": {},
   "source": [
    "**For numpy functions use np.info(), for base python packages use help().**\n",
    "\n",
    "Many functions have names that you expect (how do you think you should calculate cosine or sine of a value, for example)? Try it out! If you don't know the name of the function you can use the command `np.lookfor` or `help`."
   ]
  },
  {
   "cell_type": "code",
   "execution_count": null,
   "metadata": {},
   "outputs": [],
   "source": [
    "### Calculate cosine of a value ###\n"
   ]
  },
  {
   "cell_type": "code",
   "execution_count": null,
   "metadata": {},
   "outputs": [],
   "source": [
    "### Calculate sine of a value ###\n"
   ]
  },
  {
   "cell_type": "markdown",
   "metadata": {},
   "source": [
    "Python is not just a calculator. It is also a programming language that can store values in memory. For example, the command: "
   ]
  },
  {
   "cell_type": "code",
   "execution_count": null,
   "metadata": {},
   "outputs": [],
   "source": [
    "x=3\n",
    "x"
   ]
  },
  {
   "cell_type": "markdown",
   "metadata": {},
   "source": [
    "tells Python that the variable x has the value 3 and now every time you use \"x\", Python will substitute the value 3, for example:"
   ]
  },
  {
   "cell_type": "code",
   "execution_count": null,
   "metadata": {},
   "outputs": [],
   "source": [
    "y = x+1\n",
    "print(y)"
   ]
  },
  {
   "cell_type": "markdown",
   "metadata": {},
   "source": [
    "Note that if you don't want Python to report back the answer/value, you can either call the variable or use a\n",
    "`print()` function. It is very important to realize the \"=\" sign does not mean that Python checks to see if the\n",
    "two sides are equal to each other, but rather states that whatever is on the left should be assigned the value\n",
    "of that on the right. If you want to check the truth of a particular statement, for example is x equal to 3, or\n",
    "alternatively, is y equal to 3 then you would type:"
   ]
  },
  {
   "cell_type": "code",
   "execution_count": null,
   "metadata": {},
   "outputs": [],
   "source": [
    "x == 3"
   ]
  },
  {
   "cell_type": "markdown",
   "metadata": {},
   "source": [
    "Now why don't you find out if y is equal to 3?"
   ]
  },
  {
   "cell_type": "code",
   "execution_count": null,
   "metadata": {},
   "outputs": [],
   "source": []
  },
  {
   "cell_type": "markdown",
   "metadata": {},
   "source": [
    "The double `==` sign tells Python to logically compare what is on the left with that on the right and return\n",
    "1 if true and 0 if false."
   ]
  },
  {
   "cell_type": "markdown",
   "metadata": {},
   "source": [
    "Python can also handle arrays of values (for example a vector or a matrix). The simplest way is to use\n",
    "the numpy arange function, which defines a sequential vector, for example:"
   ]
  },
  {
   "cell_type": "code",
   "execution_count": null,
   "metadata": {},
   "outputs": [],
   "source": [
    "v = np.arange(1,5)\n",
    "print(v)"
   ]
  },
  {
   "cell_type": "markdown",
   "metadata": {},
   "source": [
    "you can also modify the increments by adding a step parameter at the end:"
   ]
  },
  {
   "cell_type": "code",
   "execution_count": null,
   "metadata": {},
   "outputs": [],
   "source": [
    "w = np.arange(1,9,2)\n",
    "print(w)"
   ]
  },
  {
   "cell_type": "markdown",
   "metadata": {},
   "source": [
    "Now try creating an array 'z' which is an array of all multiples of 3, from 0 to 30:"
   ]
  },
  {
   "cell_type": "code",
   "execution_count": null,
   "metadata": {},
   "outputs": [],
   "source": [
    "z = ### insert your code here ###\n",
    "print(z)"
   ]
  },
  {
   "cell_type": "markdown",
   "metadata": {},
   "source": [
    "Any entry can be examined using the brackets.\n",
    "**Python lists/arrays are 0 indexed, meaning the first element's index is 0 not 1.**\n"
   ]
  },
  {
   "cell_type": "code",
   "execution_count": null,
   "metadata": {},
   "outputs": [],
   "source": [
    "w[3]"
   ]
  },
  {
   "cell_type": "markdown",
   "metadata": {},
   "source": [
    "and basic math can be performed automatically on vectors (and matrices), for example:"
   ]
  },
  {
   "cell_type": "code",
   "execution_count": null,
   "metadata": {},
   "outputs": [],
   "source": [
    "np.log(w)"
   ]
  },
  {
   "cell_type": "markdown",
   "metadata": {},
   "source": [
    "Why don't you try to take the exponent of the array 'z' you created?"
   ]
  },
  {
   "cell_type": "code",
   "execution_count": null,
   "metadata": {},
   "outputs": [],
   "source": [
    "### Exponent of array z ###\n"
   ]
  },
  {
   "cell_type": "markdown",
   "metadata": {},
   "source": [
    "\n",
    "Python using the Matplotlib library can also plot graphs and surfaces and all sorts of things. To create\n",
    "a simple plot, use the `plot` command."
   ]
  },
  {
   "cell_type": "code",
   "execution_count": null,
   "metadata": {},
   "outputs": [],
   "source": [
    "import matplotlib.pyplot as plt\n",
    "plt.plot(v,np.log(w))"
   ]
  },
  {
   "cell_type": "markdown",
   "metadata": {},
   "source": [
    "Now try making some plots with the arrays you created!"
   ]
  },
  {
   "cell_type": "code",
   "execution_count": null,
   "metadata": {},
   "outputs": [],
   "source": [
    "### Plot ###\n"
   ]
  },
  {
   "cell_type": "markdown",
   "metadata": {},
   "source": [
    "***\n",
    "## 2 Building \"Programs\" from \"Scripts\" and \"Functions\"\n",
    "\n",
    "However, once you have a lot of commands, it will get exhausting typing them (especially when you make mistakes). So, Python has functions, which is a list of commands, that execute in order. To create a function create a new cell and define a function using `def`."
   ]
  },
  {
   "cell_type": "code",
   "execution_count": null,
   "metadata": {},
   "outputs": [],
   "source": [
    "# My first function\n",
    "def func():\n",
    "    x = np.arange(1,10)\n",
    "    y1 = np.exp(x*.5)\n",
    "    y2 = np.exp(x*.6)\n",
    "    plt.plot(x,y1)\n",
    "    plt.plot(x,y2,color='red')\n",
    "    plt.xlabel('x')\n",
    "    plt.ylabel('y')\n",
    "    plt.show()"
   ]
  },
  {
   "cell_type": "markdown",
   "metadata": {},
   "source": [
    "Run the cell this is placed in, and then in the next cell type `func()` and it should do all the commands in your script and give you your figure."
   ]
  },
  {
   "cell_type": "code",
   "execution_count": null,
   "metadata": {},
   "outputs": [],
   "source": []
  },
  {
   "cell_type": "markdown",
   "metadata": {},
   "source": [
    "The problem with this function is that if you wanted to change the exponents in these files, you would have to edit the function and then re-run it, instead of designating the change in the current cell. Moreover, this function does not return a variable or accept a variable as input.\n",
    "\n",
    "To get around this, functions can also run on parameters:"
   ]
  },
  {
   "cell_type": "code",
   "execution_count": null,
   "metadata": {},
   "outputs": [],
   "source": [
    "def logGrowth(t,N):\n",
    "    '''\n",
    "    logGrowth gives the growth rate of a population of size N at time t.\n",
    "    '''\n",
    "    r = .5\n",
    "    K = 100\n",
    "    dNdt = r*N*(1-N/K)\n",
    "    return(dNdt)"
   ]
  },
  {
   "cell_type": "markdown",
   "metadata": {},
   "source": [
    "Now you can use your function like one of Python's, for example:"
   ]
  },
  {
   "cell_type": "code",
   "execution_count": null,
   "metadata": {},
   "outputs": [],
   "source": [
    "j = np.arange(110)\n",
    "plt.plot(j,logGrowth(0,j))\n",
    "### insert code here to set x label as 'N' ###\n",
    "### insert code here to set y label as 'dN/dt' ###\n",
    "plt.show()"
   ]
  },
  {
   "cell_type": "markdown",
   "metadata": {},
   "source": [
    "gives an upside down parabola, denoting that growth rate is positive between 0 and 100 and negative when N is greater than 100."
   ]
  },
  {
   "cell_type": "markdown",
   "metadata": {},
   "source": [
    "***\n",
    "## 3 Getting Started with Core Techniques\n",
    "\n",
    "### 3.1 Create loops\n",
    "\n",
    "The two types of loops we will discuss are \"for\" and \"while\" loops. Both loops start with a keyword such as `for` or `while` and they end with the word end. The \"for\" loop allows us to repeat certain commands many\n",
    "times with a \"counter\" variable. Here is one example:"
   ]
  },
  {
   "cell_type": "code",
   "execution_count": null,
   "metadata": {},
   "outputs": [],
   "source": [
    "for i in np.arange(1,4):\n",
    "    print(1-i)"
   ]
  },
  {
   "cell_type": "markdown",
   "metadata": {},
   "source": [
    "You can also increment your counter variable by any real number like:"
   ]
  },
  {
   "cell_type": "code",
   "execution_count": null,
   "metadata": {},
   "outputs": [],
   "source": [
    "for i in np.arange(1,0,-.1):\n",
    "    print(1-i)"
   ]
  },
  {
   "cell_type": "markdown",
   "metadata": {},
   "source": [
    "Or you can even use a set of arbitrary values:"
   ]
  },
  {
   "cell_type": "code",
   "execution_count": null,
   "metadata": {},
   "outputs": [],
   "source": [
    "for i in [1,3,5,7]:\n",
    "    print(1-i)"
   ]
  },
  {
   "cell_type": "markdown",
   "metadata": {},
   "source": [
    "***\n",
    "**Exercise on matrices:** Define a random matrix A of size 3-by-3. Use a double \"for loop\" to calculate the\n",
    "square of the entries in A and store the values in another matrix B. (Hint: type `np.lookfor('random')` if you\n",
    "don't know how to define a random matrix)"
   ]
  },
  {
   "cell_type": "code",
   "execution_count": null,
   "metadata": {},
   "outputs": [],
   "source": []
  },
  {
   "cell_type": "code",
   "execution_count": null,
   "metadata": {},
   "outputs": [],
   "source": []
  },
  {
   "cell_type": "markdown",
   "metadata": {},
   "source": [
    "***\n",
    "The second type of loop is the \"while\" loop. The \"while\" loop repeats a sequence of commands as long as some condition is met. For example, given a number n, the following code will return the smallest non-negative integer a such that $2^a > n$."
   ]
  },
  {
   "cell_type": "code",
   "execution_count": null,
   "metadata": {},
   "outputs": [],
   "source": [
    "def smallexp(n):\n",
    "    a = 0\n",
    "    while 2**a < n:\n",
    "        a = a+1\n",
    "    return(a)"
   ]
  },
  {
   "cell_type": "code",
   "execution_count": null,
   "metadata": {},
   "outputs": [],
   "source": [
    "a = smallexp(4)\n",
    "print(a)"
   ]
  },
  {
   "cell_type": "markdown",
   "metadata": {},
   "source": [
    "Note that in the above example we used the conditional statement, $2^a < n$ to decide whether the statement within the while loop should be proceeded. Such conditional statements are also used in \"if\" statements that are discussed in the next section. The rational operator used here is \"<\", which means \"less than.\" Other rational operators that are available in Python include:\n",
    "\n",
    "\\> greater than\n",
    "\n",
    "\\>= greater than or equal\n",
    "\n",
    "<= less than or equal\n",
    "\n",
    "== equal\n",
    "\n",
    "!= not equal\n",
    "\n",
    "Simple conditional statements can be combined by logical operators,\n",
    "\n",
    "`&& = AND`\n",
    "\n",
    "`|| = OR`\n",
    "\n",
    "into compound expressing such as the following:\n",
    "\n",
    "`(5 > 1) && (5 == 6)`\n",
    "\n",
    "### 3.2 Make decisions\n",
    "\n",
    "Now, let's suppose you want your code to make a decision, and the \"if\" statement is what you need. The general form in Python is as follows:\n",
    "\n",
    "`if expression1:\n",
    "    statements1\n",
    "elif expression2:\n",
    "    statements2\n",
    "else:\n",
    "    statements3`"
   ]
  },
  {
   "cell_type": "markdown",
   "metadata": {},
   "source": [
    "***\n",
    "**Exercise:** Finish the following pseudo-code that gives the factorial of a positive number n, using the recursive formula $n! = n(n - 1)!$.\n",
    "\n",
    "`def factorial_recur(n):\n",
    "    if ###:\n",
    "        N = 1\n",
    "    else:\n",
    "        N = ###\n",
    "    return(N)`"
   ]
  },
  {
   "cell_type": "code",
   "execution_count": null,
   "metadata": {},
   "outputs": [],
   "source": []
  },
  {
   "cell_type": "code",
   "execution_count": null,
   "metadata": {},
   "outputs": [],
   "source": []
  },
  {
   "cell_type": "markdown",
   "metadata": {},
   "source": [
    "***\n",
    "### 3.3 Go fast, i.e., 'vectorize\"\n",
    "\n",
    "Remember: `for` loops are SLOW. One way to make your Python code run faster is to \"vectorize\" the algorithm you use in the code. Vectorization can be done by converting `for` and `while` loops to equivalent vector or matrix operations. A simple example would be the following. `timeit` is a magic command that captures the runtime of the cell in jupyter. Commands on the same line as `timeit` are not included in the timer. The double percent sign is for jupyter notebook."
   ]
  },
  {
   "cell_type": "code",
   "execution_count": null,
   "metadata": {},
   "outputs": [],
   "source": [
    "%%timeit x = 1 ; y = []\n",
    "for i in np.arange(1001):\n",
    "    y.append(np.log10(x))\n",
    "    x = x + .01"
   ]
  },
  {
   "cell_type": "code",
   "execution_count": null,
   "metadata": {},
   "outputs": [],
   "source": [
    "%%timeit\n",
    "x = np.arange(.01,10,.01)\n",
    "y = np.log10(x)"
   ]
  },
  {
   "cell_type": "markdown",
   "metadata": {},
   "source": [
    "For more complicated code, vectorization is not always so obvious. Nonetheless, there is a simple procedure that will help: elementwise operators.\n",
    "\n",
    "### 3.4 Elementwise operators\n",
    "\n",
    "In Python, you can do calculations element by element. For example, if you have a variable X and want to square it. In Python squaring is denoted by ** instead."
   ]
  },
  {
   "cell_type": "code",
   "execution_count": null,
   "metadata": {},
   "outputs": [],
   "source": [
    "x = np.array([5,5,5,5])\n",
    "### Try squaring the array by typing x**2 ###"
   ]
  },
  {
   "cell_type": "markdown",
   "metadata": {},
   "source": [
    "Did it work? Yes! In numpy elementwise multiplication is the default behavior to interpret the subsequent operator element by element. This is also helpful for a whole matrix. If you would like to do dot multiplication, simply use `@` operator"
   ]
  },
  {
   "cell_type": "code",
   "execution_count": null,
   "metadata": {},
   "outputs": [],
   "source": [
    "x = 5 * np.ones((4,4))\n",
    "x @ x"
   ]
  },
  {
   "cell_type": "markdown",
   "metadata": {},
   "source": [
    "Contrast the two answers. In the first, you squared all the 5-s. In the second you multiplied two square matrices by each other."
   ]
  },
  {
   "cell_type": "markdown",
   "metadata": {},
   "source": [
    "***\n",
    "**Exercise: Take the square root of the numbers between 1 to 20 using an elementwise operator.**"
   ]
  },
  {
   "cell_type": "code",
   "execution_count": null,
   "metadata": {},
   "outputs": [],
   "source": []
  },
  {
   "cell_type": "markdown",
   "metadata": {},
   "source": [
    "***\n",
    "### 3.5 Find values you want to know about\n",
    "\n",
    "Given an array X, the command `x[x!=0]` returns the indices of all nonzero elements of X. You can also use a logical expression to define X. For example, `x[x>2]` returns the indices corresponding to the entries of X that are greater than 2."
   ]
  },
  {
   "cell_type": "code",
   "execution_count": null,
   "metadata": {},
   "outputs": [],
   "source": [
    "x = np.array([0, 1, 2, 3, 4])\n",
    "### Try to find values in this array that are lesser than 2 ###"
   ]
  },
  {
   "cell_type": "markdown",
   "metadata": {},
   "source": [
    "Notice that X could also be a matrix. In this case, using the `np.argwhere()` returns a list of the elements that satisfy the condition."
   ]
  },
  {
   "cell_type": "code",
   "execution_count": null,
   "metadata": {},
   "outputs": [],
   "source": [
    "np.argwhere(x>2)"
   ]
  },
  {
   "cell_type": "markdown",
   "metadata": {},
   "source": [
    "However, when you want to locate the entries that satisfy more than one logical expressions, the 'elementwise'\n",
    "logical operators (`&` and `|`) are used in place of 'short-circuit' logical operators (`&&` and `||`)."
   ]
  },
  {
   "cell_type": "markdown",
   "metadata": {},
   "source": [
    "***\n",
    "**Exercise:** Build a 5-by-5 random matrix A using the command\n",
    "\n",
    "`A = np.random.rand(5,5)`\n",
    "\n",
    "Find the linear indices of entries whose value is smaller than 1/4 and bigger than 1/6."
   ]
  },
  {
   "cell_type": "code",
   "execution_count": null,
   "metadata": {},
   "outputs": [],
   "source": []
  },
  {
   "cell_type": "markdown",
   "metadata": {},
   "source": [
    "***\n",
    "### 3.6 Save and load data\n",
    "\n",
    "Saving and loading objects (variables, arrays, or other forms of data) can be done in a multitude of ways in Python, however; for this course we will use the native methods for numpy."
   ]
  },
  {
   "cell_type": "code",
   "execution_count": null,
   "metadata": {},
   "outputs": [],
   "source": [
    "import numpy as np\n",
    "numpy_array = ### create a numpy array of your choice ###\n",
    "numpy.save('numpy_store.npy', numpy_array)"
   ]
  },
  {
   "cell_type": "markdown",
   "metadata": {},
   "source": [
    "and numpy will save the speci\f",
    "ed array in the \f",
    "le name. When you want to load all the variables from the file specified by filename, just type: `numpy_loaded = numpy.load('numpy_store.npy')`."
   ]
  },
  {
   "cell_type": "code",
   "execution_count": null,
   "metadata": {},
   "outputs": [],
   "source": [
    "### Try loading the array you just saved. Print it to see the array ###\n"
   ]
  },
  {
   "cell_type": "markdown",
   "metadata": {},
   "source": [
    "***\n",
    "## 4 Random numbers\n",
    "\n",
    "### 4.1 Rolling dice... again and again\n",
    "\n",
    "We've already used random numbers in this tutorial, without quite understanding the power and potential of this component of Python.\n",
    "\n",
    "To provide some more context, consider what happens when you roll a fair 6-sided die. There are 6 possible events, all equally likely. You might roll a 1, 2, 3, 4, 5 or 6. In living systems, such \"chance\" events also shape dynamics. For example, replication may have many error correcting mechanisms, but it is not 100% accurate. One might wonder: perhaps the degree of error correction is itself evolvable (hint: yes it is). Other examples of the influence of random change include the motion of small bacteria and viruses as well as the expression of genes. How can we begin to incorporate randomness into models of living systems?\n",
    "\n",
    "Let's start with the simplest of the Numpy functions:"
   ]
  },
  {
   "cell_type": "code",
   "execution_count": null,
   "metadata": {},
   "outputs": [],
   "source": [
    "np.random.rand()"
   ]
  },
  {
   "cell_type": "markdown",
   "metadata": {},
   "source": [
    "The command `rand` calls a random number generator. But what kind of random number generator? Run this command a few times and see if you can figure it out... As is apparent the output numbers are all between 0 and 1. By default, rand generates random numbers that are uniformly spaced between 0 and 1, that is there is an equal chance of getting a 0.0001 or a 0.4983 or 0.9898 or any other number in the interval.\n",
    "\n",
    "To verify that this works, do the following:"
   ]
  },
  {
   "cell_type": "code",
   "execution_count": null,
   "metadata": {},
   "outputs": [],
   "source": [
    "x = ### Generate 1000 random values using rand. If you don't know how, type np.info(np.random.rand) for help###\n",
    "plt.hist(x,20) #This plots a histogram of all the values you generated.\n",
    "plt.xlabel('Random Value')\n",
    "plt.ylabel('Histogram')"
   ]
  },
  {
   "cell_type": "markdown",
   "metadata": {},
   "source": [
    "This code snippet first generates 1000 random numbers and stores them in x. Note that by supplying the `rand` command with two inputs, you can specify the size of the matrix of random numbers that it generates. Here, the output has 1 row and 1000 columns. Can you generate a random matrix with 1000 rows and 1 column instead? Next, the hist command generates a \"histogram\" of x with 20 equally spaced bins. In this way you can visually check that the numbers are equally spaced."
   ]
  },
  {
   "cell_type": "code",
   "execution_count": null,
   "metadata": {},
   "outputs": [],
   "source": [
    "### Here, try creating a random matrix with 1000 rows and 1 column ###\n"
   ]
  },
  {
   "cell_type": "markdown",
   "metadata": {},
   "source": [
    "***\n",
    "**Exercise:**\n",
    "\n",
    "Here are three challenge problems:\n",
    "\n",
    "* Generate 1000 random numbers equally spaced between 0 to 5.\n",
    "* Generate 1000 random numbers equally spaced between 2 to 7.\n",
    "* Generate 1000 random numbers equally spaced between -5 to 5.\n",
    "\n",
    "In each of these cases, you should be able to use the command rand(1,1000) and use simple arithmetic to transform the random numbers. Use histograms to check your answers. You can do it!"
   ]
  },
  {
   "cell_type": "code",
   "execution_count": null,
   "metadata": {},
   "outputs": [],
   "source": [
    "### Generate 1000 random numbers equally spaced between 0 to 5. ###\n"
   ]
  },
  {
   "cell_type": "code",
   "execution_count": null,
   "metadata": {},
   "outputs": [],
   "source": [
    "### Generate 1000 random numbers equally spaced between 2 to 7. ###\n"
   ]
  },
  {
   "cell_type": "code",
   "execution_count": null,
   "metadata": {},
   "outputs": [],
   "source": [
    "### Generate 1000 random numbers equally spaced between -5 to 5. ###\n"
   ]
  },
  {
   "cell_type": "markdown",
   "metadata": {},
   "source": [
    "***\n",
    "### 4.2 Normally distributed random numbers... and more\n",
    "\n",
    "But many processes in biology have very different kinds of randomness. The one you are probably most familiar with is \"Gaussian\" or \"normally\" distributed error. Numpy has a built-in package to generate such random numbers. To see how it works, implement this code snippet:"
   ]
  },
  {
   "cell_type": "code",
   "execution_count": null,
   "metadata": {},
   "outputs": [],
   "source": [
    "x = np.random.randn(1000)\n",
    "plt.hist(x,20)\n",
    "plt.xlabel('Random Value')\n",
    "plt.ylabel('Histogram')"
   ]
  },
  {
   "cell_type": "markdown",
   "metadata": {},
   "source": [
    "Compare the image with the histogram you obtained through `np.random.rand()`.\n",
    "\n",
    "Now that you've generated randomly distributed numbers, you might ask: are they really normally distributed? By default, the function `randn` generates random numbers with mean 0 and unit standard deviation."
   ]
  },
  {
   "cell_type": "code",
   "execution_count": null,
   "metadata": {},
   "outputs": [],
   "source": [
    "#To find the mean of the distribution\n",
    "np.mean(x)"
   ]
  },
  {
   "cell_type": "code",
   "execution_count": null,
   "metadata": {},
   "outputs": [],
   "source": [
    "#To find the standard deviation of the distribution\n",
    "np.std(x)"
   ]
  },
  {
   "cell_type": "markdown",
   "metadata": {},
   "source": [
    "You will find that your numbers - and each of you may get different numbers - do not have exactly a mean of 0 and a standard deviation of 1, but they are close. You might be worried. I invite you to do the following:"
   ]
  },
  {
   "cell_type": "code",
   "execution_count": null,
   "metadata": {},
   "outputs": [],
   "source": [
    "from scipy import stats\n",
    "stats.describe(x)"
   ]
  },
  {
   "cell_type": "markdown",
   "metadata": {},
   "source": [
    "and then to see if the random numbers you sampled could plausibly have arisen from a process that generates randomly distributed numbers with mean 0 and standard deviation 1."
   ]
  },
  {
   "cell_type": "markdown",
   "metadata": {},
   "source": [
    "***\n",
    "## 5 Advanced - Individual-Based Simulations\n",
    "\n",
    "For those more experienced in Python, try and develop a simulation of \"diffusion\" in which a bacteria swims at a speed of 10 $\\mu$m/s with each \"run\" lasting 1 second. In this case the direction of the next run is random. How long will it take, on average, for the bacteria to travel 1 mm away from its source? According to the rules of diffusive motion, the average time to travel a distance x should be:\n",
    "\n",
    "$$ T = \\frac{x^2}{D} $$\n",
    "\n",
    "What do we mean by *average* here? If you develop code, can you visualize the results? If you change the length in equation, how does *T* change? Can you confirm the scaling and estimate *D*? What happens if the durations of each run is exponentially distributed, so that runs last on average 1 second, but can vary in duration? Did the answer with respect to travel time to reach 1 mm change in a quantitative or qualitative way? We get much further into these ideas during the workshop. Here are examples of two runs, one with constant duration and one with exponentially distributed durations:"
   ]
  },
  {
   "cell_type": "markdown",
   "metadata": {},
   "source": [
    "![Imgur](https://i.imgur.com/YZg6lBw.png)"
   ]
  },
  {
   "cell_type": "code",
   "execution_count": null,
   "metadata": {},
   "outputs": [],
   "source": []
  }
 ],
 "metadata": {
  "kernelspec": {
   "display_name": "Python 3",
   "language": "python",
   "name": "python3"
  },
  "language_info": {
   "codemirror_mode": {
    "name": "ipython",
    "version": 3
   },
   "file_extension": ".py",
   "mimetype": "text/x-python",
   "name": "python",
   "nbconvert_exporter": "python",
   "pygments_lexer": "ipython3",
   "version": "3.7.3"
  }
 },
 "nbformat": 4,
 "nbformat_minor": 4
}
